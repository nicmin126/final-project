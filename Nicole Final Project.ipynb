{
 "cells": [
  {
   "cell_type": "markdown",
   "metadata": {},
   "source": [
    "# My Jupyter Notebook on IBM Watson Studio "
   ]
  },
  {
   "cell_type": "markdown",
   "metadata": {},
   "source": [
    "**Nicole Minnelli**\n",
    "Current occupation: Dietitian. Desired: Heathcare/research data science or analytics "
   ]
  },
  {
   "cell_type": "markdown",
   "metadata": {},
   "source": [
    "*I am interested in data science because I have a strong curiousty in figuring out the way things work. I'm always asking questions. Data science is really central to our lives in a behind the scenes way. From netflix to healthcare to shopping - it's everywhere! "
   ]
  },
  {
   "cell_type": "markdown",
   "metadata": {},
   "source": [
    "### the code below will complete a difficult math problem using multiplication and division"
   ]
  },
  {
   "cell_type": "code",
   "execution_count": 4,
   "metadata": {},
   "outputs": [
    {
     "name": "stdout",
     "output_type": "stream",
     "text": [
      "16297.5\n"
     ]
    }
   ],
   "source": [
    "print(265*123/2)"
   ]
  },
  {
   "cell_type": "markdown",
   "metadata": {},
   "source": [
    "| header | header |\n",
    "| ------ | ------ |\n",
    "| cell | cell |\n",
    "\n",
    "1. number 1\n",
    "2. number 2\n",
    "\n",
    "\n",
    "    \n",
    "[coursera link to IBM Data Science course](https://www.coursera.org/professional-certificates/ibm-data-science)\n",
    "\n",
    "Horizontal Rule\n",
    "\n",
    "______________\n",
    "\n"
   ]
  },
  {
   "cell_type": "code",
   "execution_count": null,
   "metadata": {},
   "outputs": [],
   "source": []
  },
  {
   "cell_type": "code",
   "execution_count": null,
   "metadata": {},
   "outputs": [],
   "source": []
  }
 ],
 "metadata": {
  "kernelspec": {
   "display_name": "Python 3.10",
   "language": "python",
   "name": "python3"
  },
  "language_info": {
   "codemirror_mode": {
    "name": "ipython",
    "version": 3
   },
   "file_extension": ".py",
   "mimetype": "text/x-python",
   "name": "python",
   "nbconvert_exporter": "python",
   "pygments_lexer": "ipython3",
   "version": "3.10.6"
  }
 },
 "nbformat": 4,
 "nbformat_minor": 1
}
